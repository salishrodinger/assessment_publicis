{
 "cells": [
  {
   "cell_type": "code",
   "execution_count": 12,
   "metadata": {},
   "outputs": [],
   "source": [
    "import pandas as pd\n",
    "import itertools\n",
    "from collections import defaultdict\n",
    "from itertools import permutations,combinations\n",
    "import numpy as np"
   ]
  },
  {
   "cell_type": "code",
   "execution_count": 13,
   "metadata": {},
   "outputs": [
    {
     "data": {
      "text/html": [
       "<div>\n",
       "<style scoped>\n",
       "    .dataframe tbody tr th:only-of-type {\n",
       "        vertical-align: middle;\n",
       "    }\n",
       "\n",
       "    .dataframe tbody tr th {\n",
       "        vertical-align: top;\n",
       "    }\n",
       "\n",
       "    .dataframe thead th {\n",
       "        text-align: right;\n",
       "    }\n",
       "</style>\n",
       "<table border=\"1\" class=\"dataframe\">\n",
       "  <thead>\n",
       "    <tr style=\"text-align: right;\">\n",
       "      <th></th>\n",
       "      <th>full_journey</th>\n",
       "      <th>nb_parcours</th>\n",
       "    </tr>\n",
       "  </thead>\n",
       "  <tbody>\n",
       "    <tr>\n",
       "      <th>0</th>\n",
       "      <td>SEO</td>\n",
       "      <td>3566</td>\n",
       "    </tr>\n",
       "    <tr>\n",
       "      <th>1</th>\n",
       "      <td>DIRECT_ACCESS</td>\n",
       "      <td>2730</td>\n",
       "    </tr>\n",
       "    <tr>\n",
       "      <th>2</th>\n",
       "      <td>SEA_Google_M</td>\n",
       "      <td>1279</td>\n",
       "    </tr>\n",
       "    <tr>\n",
       "      <th>3</th>\n",
       "      <td>AD_EXCHANGE_appnexus-SEO</td>\n",
       "      <td>629</td>\n",
       "    </tr>\n",
       "    <tr>\n",
       "      <th>4</th>\n",
       "      <td>AD_EXCHANGE_appnexus</td>\n",
       "      <td>594</td>\n",
       "    </tr>\n",
       "  </tbody>\n",
       "</table>\n",
       "</div>"
      ],
      "text/plain": [
       "               full_journey  nb_parcours\n",
       "0                       SEO         3566\n",
       "1             DIRECT_ACCESS         2730\n",
       "2              SEA_Google_M         1279\n",
       "3  AD_EXCHANGE_appnexus-SEO          629\n",
       "4      AD_EXCHANGE_appnexus          594"
      ]
     },
     "execution_count": 13,
     "metadata": {},
     "output_type": "execute_result"
    }
   ],
   "source": [
    "# Utilisation d'un modèle de données déjà formatté pour le Sunburst afin de sauter des étapes. \n",
    "# Les parcours sont consolidés avec leur nombre de conversions correspondantes\n",
    "df = pd.read_csv('bquxjob_3d9765be_185c749b3cc.csv')\n",
    "df.head()"
   ]
  },
  {
   "cell_type": "code",
   "execution_count": 14,
   "metadata": {},
   "outputs": [],
   "source": [
    "# Création de la fonction power_set qui renvoie toutes les combinaisons possibles pour un canal\n",
    "def power_set(List):\n",
    "    PS = [list(j) for i in range(len(List)) for j in itertools.combinations(List, i+1)]\n",
    "    return PS"
   ]
  },
  {
   "cell_type": "code",
   "execution_count": 15,
   "metadata": {},
   "outputs": [],
   "source": [
    "# Retourne tous les sous-ensembles possibles d'un ensemble de canaux\n",
    "\n",
    "def subsets(s):\n",
    "    '''\n",
    "    Cette fonction renvoie tous les sous-ensembles possibles d'un ensemble de canaux.\n",
    "    input :\n",
    "            - s : l'ensemble des canaux.\n",
    "    '''\n",
    "    if len(s)==1:\n",
    "        return s\n",
    "    else:\n",
    "        sub_channels=[]\n",
    "        for i in range(1,len(s)+1):\n",
    "            sub_channels.extend(map(list,itertools.combinations(s, i)))\n",
    "    return list(map(\"-\".join,map(sorted,sub_channels)))"
   ]
  },
  {
   "cell_type": "code",
   "execution_count": 16,
   "metadata": {},
   "outputs": [],
   "source": [
    "# Calculer la valeur de chaque coalition\n",
    "\n",
    "def v_function(A,C_values):\n",
    "    '''\n",
    "    Cette fonction calcule la valeur de chaque coalition.\n",
    "    inputs :\n",
    "            - A : une coalition de chaînes.\n",
    "            - C_values : Un dictionnaire contenant le nombre de conversions que chaque sous-ensemble de canaux a donné.\n",
    "    '''\n",
    "    subsets_of_A = subsets(A)\n",
    "    #print(subsets_of_A)\n",
    "    #exit()\n",
    "    worth_of_A=0\n",
    "    for subset in subsets_of_A:\n",
    "        #print(\"subset:\", subset)\n",
    "        if subset in C_values:\n",
    "            #print(\"subset:\", subset, \"; Value:\", C_values[subset])\n",
    "            worth_of_A += C_values[subset]\n",
    "    return worth_of_A"
   ]
  },
  {
   "cell_type": "code",
   "execution_count": 17,
   "metadata": {},
   "outputs": [],
   "source": [
    "# Calculer la factorielle d'un nombre (un nombre entier non négatif)\n",
    "\n",
    "def factorial(n):\n",
    "    if n == 0:\n",
    "        return 1\n",
    "    else:\n",
    "        return n * factorial(n-1)"
   ]
  },
  {
   "cell_type": "code",
   "execution_count": 18,
   "metadata": {},
   "outputs": [],
   "source": [
    "def calculate_shapley(df, col_name):\n",
    "    '''\n",
    "    Cette fonction renvoie les valeurs de Shapley\n",
    "            - df : Notre dataframe composé de deux colonnes : ['full_journey', 'nb_parcours].\n",
    "            La colonne channel_subset est le(s) canal(aux) associé(s) à la conversion et le count est la somme des conversions. \n",
    "            - col_name : Nom de la colonne représentant le nombre de conversions, ici cela sera 'nb_parcours'.          \n",
    "    '''\n",
    "    c_values = df.set_index(\"full_journey\").to_dict()[col_name]\n",
    "    df['channels'] = df['full_journey'].apply(lambda x: x if len(x.split(\"-\")) == 1 else np.nan)\n",
    "    channels = list(df['channels'].dropna().unique())\n",
    "    \n",
    "    v_values = {}\n",
    "    for A in power_set(channels):\n",
    "        v_values['-'.join(sorted(A))] = v_function(A,c_values)\n",
    "    #print(v_values)\n",
    "    n=len(channels)\n",
    "    shapley_values = defaultdict(int)\n",
    "    for channel in channels:\n",
    "            for A in v_values.keys():\n",
    "            #print(A)\n",
    "                if channel not in A.split(\"-\"):\n",
    "                    #print(channel)\n",
    "                    cardinal_A=len(A.split(\"-\"))\n",
    "                    A_with_channel = A.split(\"-\")\n",
    "                    A_with_channel.append(channel)            \n",
    "                    A_with_channel=\"-\".join(sorted(A_with_channel))\n",
    "                    # Weight = |S|!(n-|S|-1)!/n!\n",
    "                    weight = (factorial(cardinal_A)*factorial(n-cardinal_A-1)/factorial(n))\n",
    "                    # Marginal contribution = v(S U {i})-v(S)\n",
    "                    contrib = (v_values[A_with_channel]-v_values[A]) \n",
    "                    shapley_values[channel] += weight * contrib\n",
    "            # Add the term corresponding to the empty set\n",
    "            shapley_values[channel]+= v_values[channel]/n \n",
    "            \n",
    "    return shapley_values"
   ]
  },
  {
   "cell_type": "code",
   "execution_count": 19,
   "metadata": {},
   "outputs": [
    {
     "name": "stdout",
     "output_type": "stream",
     "text": [
      "defaultdict(<class 'int'>, {'SEO': 4021.8333333333067, 'DIRECT_ACCESS': 3005.3333333333244, 'SEA_Google_M': 1285.9999999999966, 'AD_EXCHANGE_appnexus': 1090.6666666666686, 'email_auto': 227.33333333333698, 'REFERRAL': 292.33333333333513, 'AFFILIATION': 223.49999999999682, 'SEA_Bing_M': 117.5000000000006, 'SEA_Google_HM': 64.99999999999962, 'email_tactique': 36.666666666666146, 'SOCIAL': 12.000000000000375, 'DISPLAY': 6.3333333333333215, 'SEA_Bing_HM': 2.5000000000000595})\n"
     ]
    }
   ],
   "source": [
    "# Appel de la fonction pour visualiser la contribution de chaque canal en utilisant le modèle Shapley\n",
    "print(calculate_shapley(df, \"nb_parcours\"))"
   ]
  },
  {
   "cell_type": "code",
   "execution_count": 29,
   "metadata": {},
   "outputs": [
    {
     "data": {
      "image/png": "[encoded data removed]",
      "text/plain": [
       "<Figure size 1800x600 with 1 Axes>"
      ]
     },
     "metadata": {},
     "output_type": "display_data"
    }
   ],
   "source": [
    "# Téléchargement des librairies pour la visualisation\n",
    "import matplotlib.pyplot as plt\n",
    "from pandas.plotting import scatter_matrix\n",
    "from pandas import DataFrame\n",
    "%matplotlib inline\n",
    "import seaborn as sns\n",
    "result = DataFrame(list(dict(calculate_shapley(df, \"nb_parcours\")).items()),columns = ['Channels','Contributions'])\n",
    "\n",
    "# Visualisation\n",
    "plt.subplots(figsize=(18, 6))\n",
    "sns.barplot(x='Channels', y='Contributions', data=result)\n",
    "plt.show()"
   ]
  }
 ],
 "metadata": {
  "kernelspec": {
   "display_name": "Python 3",
   "language": "python",
   "name": "python3"
  },
  "language_info": {
   "codemirror_mode": {
    "name": "ipython",
    "version": 3
   },
   "file_extension": ".py",
   "mimetype": "text/x-python",
   "name": "python",
   "nbconvert_exporter": "python",
   "pygments_lexer": "ipython3",
   "version": "3.11.1"
  },
  "orig_nbformat": 4,
  "vscode": {
   "interpreter": {
    "hash": "aee8b7b246df8f9039afb4144a1f6fd8d2ca17a180786b69acc140d282b71a49"
   }
  }
 },
 "nbformat": 4,
 "nbformat_minor": 2
}
