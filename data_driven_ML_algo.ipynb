{
 "cells": [
  {
   "cell_type": "code",
   "execution_count": 52,
   "metadata": {},
   "outputs": [],
   "source": [
    "import pandas as pd\n",
    "from sklearn.ensemble import RandomForestClassifier\n",
    "from sklearn.model_selection import train_test_split\n",
    "from sklearn.preprocessing import OneHotEncoder"
   ]
  },
  {
   "cell_type": "code",
   "execution_count": 53,
   "metadata": {},
   "outputs": [],
   "source": [
    "# Chargement des données dans un dataframe\n",
    "data = pd.read_csv(\"logs_extract_test_technique_pubmedia.csv\")"
   ]
  },
  {
   "cell_type": "code",
   "execution_count": 54,
   "metadata": {},
   "outputs": [],
   "source": [
    "# Création d'un champ 'converted' basé sur l'existence du champ Date et TIMESTAMP\n",
    "data['converted'] = data['Date'] == data['TIMESTAMP']"
   ]
  },
  {
   "cell_type": "code",
   "execution_count": 55,
   "metadata": {},
   "outputs": [
    {
     "data": {
      "text/html": [
       "<div>\n",
       "<style scoped>\n",
       "    .dataframe tbody tr th:only-of-type {\n",
       "        vertical-align: middle;\n",
       "    }\n",
       "\n",
       "    .dataframe tbody tr th {\n",
       "        vertical-align: top;\n",
       "    }\n",
       "\n",
       "    .dataframe thead th {\n",
       "        text-align: right;\n",
       "    }\n",
       "</style>\n",
       "<table border=\"1\" class=\"dataframe\">\n",
       "  <thead>\n",
       "    <tr style=\"text-align: right;\">\n",
       "      <th></th>\n",
       "      <th>Visitor_ID</th>\n",
       "      <th>Order_ID</th>\n",
       "      <th>Session_ID</th>\n",
       "      <th>TIMESTAMP</th>\n",
       "      <th>channel</th>\n",
       "      <th>Date</th>\n",
       "      <th>device</th>\n",
       "      <th>interaction</th>\n",
       "      <th>converted</th>\n",
       "    </tr>\n",
       "  </thead>\n",
       "  <tbody>\n",
       "    <tr>\n",
       "      <th>0</th>\n",
       "      <td>62b8a6f7a78a95099e96208e5a5fddbf</td>\n",
       "      <td>VGNDTH</td>\n",
       "      <td>2021081109450110503075681</td>\n",
       "      <td>2021-08-11 10:50:38</td>\n",
       "      <td>SEO</td>\n",
       "      <td>2021-08-11 10:50:38</td>\n",
       "      <td>web</td>\n",
       "      <td>CLICK</td>\n",
       "      <td>True</td>\n",
       "    </tr>\n",
       "    <tr>\n",
       "      <th>1</th>\n",
       "      <td>70919f0bc2ffbfb042f9e744865967c8</td>\n",
       "      <td>Q9MDCD</td>\n",
       "      <td>2021081221100511925403162</td>\n",
       "      <td>2021-08-12 21:10:05</td>\n",
       "      <td>SEO</td>\n",
       "      <td>2021-08-12 21:10:05</td>\n",
       "      <td>mobile</td>\n",
       "      <td>CLICK</td>\n",
       "      <td>True</td>\n",
       "    </tr>\n",
       "    <tr>\n",
       "      <th>2</th>\n",
       "      <td>b0b049969e05a45cd73be135cf28983d</td>\n",
       "      <td>8ZWECQ</td>\n",
       "      <td>202107240904151573704685</td>\n",
       "      <td>2021-07-24 09:04:15</td>\n",
       "      <td>SEO</td>\n",
       "      <td>2021-07-24 09:04:15</td>\n",
       "      <td>desktop</td>\n",
       "      <td>CLICK</td>\n",
       "      <td>True</td>\n",
       "    </tr>\n",
       "    <tr>\n",
       "      <th>3</th>\n",
       "      <td>a87e36dbfc7b606b70103ca2a631bf4d</td>\n",
       "      <td>V45QTS</td>\n",
       "      <td>202107201329103861926169</td>\n",
       "      <td>2021-07-20 13:38:43</td>\n",
       "      <td>SEO</td>\n",
       "      <td>2021-07-20 14:17:31</td>\n",
       "      <td>desktop</td>\n",
       "      <td>CLICK</td>\n",
       "      <td>False</td>\n",
       "    </tr>\n",
       "    <tr>\n",
       "      <th>4</th>\n",
       "      <td>49eb15be3913a6cc5e7e98ad7c8e1fef</td>\n",
       "      <td>6T7G4U</td>\n",
       "      <td>202107090923521930686502</td>\n",
       "      <td>2021-07-09 09:23:52</td>\n",
       "      <td>SEO</td>\n",
       "      <td>2021-08-01 16:25:38</td>\n",
       "      <td>desktop</td>\n",
       "      <td>CLICK</td>\n",
       "      <td>False</td>\n",
       "    </tr>\n",
       "  </tbody>\n",
       "</table>\n",
       "</div>"
      ],
      "text/plain": [
       "                         Visitor_ID Order_ID                 Session_ID  \\\n",
       "0  62b8a6f7a78a95099e96208e5a5fddbf   VGNDTH  2021081109450110503075681   \n",
       "1  70919f0bc2ffbfb042f9e744865967c8   Q9MDCD  2021081221100511925403162   \n",
       "2  b0b049969e05a45cd73be135cf28983d   8ZWECQ   202107240904151573704685   \n",
       "3  a87e36dbfc7b606b70103ca2a631bf4d   V45QTS   202107201329103861926169   \n",
       "4  49eb15be3913a6cc5e7e98ad7c8e1fef   6T7G4U   202107090923521930686502   \n",
       "\n",
       "             TIMESTAMP channel                 Date   device interaction  \\\n",
       "0  2021-08-11 10:50:38     SEO  2021-08-11 10:50:38      web       CLICK   \n",
       "1  2021-08-12 21:10:05     SEO  2021-08-12 21:10:05   mobile       CLICK   \n",
       "2  2021-07-24 09:04:15     SEO  2021-07-24 09:04:15  desktop       CLICK   \n",
       "3  2021-07-20 13:38:43     SEO  2021-07-20 14:17:31  desktop       CLICK   \n",
       "4  2021-07-09 09:23:52     SEO  2021-08-01 16:25:38  desktop       CLICK   \n",
       "\n",
       "   converted  \n",
       "0       True  \n",
       "1       True  \n",
       "2       True  \n",
       "3      False  \n",
       "4      False  "
      ]
     },
     "execution_count": 55,
     "metadata": {},
     "output_type": "execute_result"
    }
   ],
   "source": [
    "data.head()"
   ]
  },
  {
   "cell_type": "code",
   "execution_count": 56,
   "metadata": {},
   "outputs": [],
   "source": [
    "# One hot encode the 'channel' field\n",
    "encoder = OneHotEncoder()\n",
    "channel_encoded = encoder.fit_transform(data[['channel']])\n",
    "channel_df = pd.DataFrame(channel_encoded.toarray(), columns=encoder.get_feature_names_out(['channel']))"
   ]
  },
  {
   "cell_type": "code",
   "execution_count": 57,
   "metadata": {},
   "outputs": [],
   "source": [
    "# Concatenate the encoded channel data with the original data\n",
    "data = pd.concat([data, channel_df], axis=1)"
   ]
  },
  {
   "cell_type": "code",
   "execution_count": 58,
   "metadata": {},
   "outputs": [
    {
     "data": {
      "text/html": [
       "<div>\n",
       "<style scoped>\n",
       "    .dataframe tbody tr th:only-of-type {\n",
       "        vertical-align: middle;\n",
       "    }\n",
       "\n",
       "    .dataframe tbody tr th {\n",
       "        vertical-align: top;\n",
       "    }\n",
       "\n",
       "    .dataframe thead th {\n",
       "        text-align: right;\n",
       "    }\n",
       "</style>\n",
       "<table border=\"1\" class=\"dataframe\">\n",
       "  <thead>\n",
       "    <tr style=\"text-align: right;\">\n",
       "      <th></th>\n",
       "      <th>Visitor_ID</th>\n",
       "      <th>Order_ID</th>\n",
       "      <th>Session_ID</th>\n",
       "      <th>TIMESTAMP</th>\n",
       "      <th>channel</th>\n",
       "      <th>Date</th>\n",
       "      <th>device</th>\n",
       "      <th>interaction</th>\n",
       "      <th>converted</th>\n",
       "      <th>channel_AD_EXCHANGE_appnexus</th>\n",
       "      <th>...</th>\n",
       "      <th>channel_DISPLAY</th>\n",
       "      <th>channel_REFERRAL</th>\n",
       "      <th>channel_SEA_Bing_HM</th>\n",
       "      <th>channel_SEA_Bing_M</th>\n",
       "      <th>channel_SEA_Google_HM</th>\n",
       "      <th>channel_SEA_Google_M</th>\n",
       "      <th>channel_SEO</th>\n",
       "      <th>channel_SOCIAL</th>\n",
       "      <th>channel_email_auto</th>\n",
       "      <th>channel_email_tactique</th>\n",
       "    </tr>\n",
       "  </thead>\n",
       "  <tbody>\n",
       "    <tr>\n",
       "      <th>0</th>\n",
       "      <td>62b8a6f7a78a95099e96208e5a5fddbf</td>\n",
       "      <td>VGNDTH</td>\n",
       "      <td>2021081109450110503075681</td>\n",
       "      <td>2021-08-11 10:50:38</td>\n",
       "      <td>SEO</td>\n",
       "      <td>2021-08-11 10:50:38</td>\n",
       "      <td>web</td>\n",
       "      <td>CLICK</td>\n",
       "      <td>True</td>\n",
       "      <td>0.0</td>\n",
       "      <td>...</td>\n",
       "      <td>0.0</td>\n",
       "      <td>0.0</td>\n",
       "      <td>0.0</td>\n",
       "      <td>0.0</td>\n",
       "      <td>0.0</td>\n",
       "      <td>0.0</td>\n",
       "      <td>1.0</td>\n",
       "      <td>0.0</td>\n",
       "      <td>0.0</td>\n",
       "      <td>0.0</td>\n",
       "    </tr>\n",
       "    <tr>\n",
       "      <th>1</th>\n",
       "      <td>70919f0bc2ffbfb042f9e744865967c8</td>\n",
       "      <td>Q9MDCD</td>\n",
       "      <td>2021081221100511925403162</td>\n",
       "      <td>2021-08-12 21:10:05</td>\n",
       "      <td>SEO</td>\n",
       "      <td>2021-08-12 21:10:05</td>\n",
       "      <td>mobile</td>\n",
       "      <td>CLICK</td>\n",
       "      <td>True</td>\n",
       "      <td>0.0</td>\n",
       "      <td>...</td>\n",
       "      <td>0.0</td>\n",
       "      <td>0.0</td>\n",
       "      <td>0.0</td>\n",
       "      <td>0.0</td>\n",
       "      <td>0.0</td>\n",
       "      <td>0.0</td>\n",
       "      <td>1.0</td>\n",
       "      <td>0.0</td>\n",
       "      <td>0.0</td>\n",
       "      <td>0.0</td>\n",
       "    </tr>\n",
       "    <tr>\n",
       "      <th>2</th>\n",
       "      <td>b0b049969e05a45cd73be135cf28983d</td>\n",
       "      <td>8ZWECQ</td>\n",
       "      <td>202107240904151573704685</td>\n",
       "      <td>2021-07-24 09:04:15</td>\n",
       "      <td>SEO</td>\n",
       "      <td>2021-07-24 09:04:15</td>\n",
       "      <td>desktop</td>\n",
       "      <td>CLICK</td>\n",
       "      <td>True</td>\n",
       "      <td>0.0</td>\n",
       "      <td>...</td>\n",
       "      <td>0.0</td>\n",
       "      <td>0.0</td>\n",
       "      <td>0.0</td>\n",
       "      <td>0.0</td>\n",
       "      <td>0.0</td>\n",
       "      <td>0.0</td>\n",
       "      <td>1.0</td>\n",
       "      <td>0.0</td>\n",
       "      <td>0.0</td>\n",
       "      <td>0.0</td>\n",
       "    </tr>\n",
       "    <tr>\n",
       "      <th>3</th>\n",
       "      <td>a87e36dbfc7b606b70103ca2a631bf4d</td>\n",
       "      <td>V45QTS</td>\n",
       "      <td>202107201329103861926169</td>\n",
       "      <td>2021-07-20 13:38:43</td>\n",
       "      <td>SEO</td>\n",
       "      <td>2021-07-20 14:17:31</td>\n",
       "      <td>desktop</td>\n",
       "      <td>CLICK</td>\n",
       "      <td>False</td>\n",
       "      <td>0.0</td>\n",
       "      <td>...</td>\n",
       "      <td>0.0</td>\n",
       "      <td>0.0</td>\n",
       "      <td>0.0</td>\n",
       "      <td>0.0</td>\n",
       "      <td>0.0</td>\n",
       "      <td>0.0</td>\n",
       "      <td>1.0</td>\n",
       "      <td>0.0</td>\n",
       "      <td>0.0</td>\n",
       "      <td>0.0</td>\n",
       "    </tr>\n",
       "    <tr>\n",
       "      <th>4</th>\n",
       "      <td>49eb15be3913a6cc5e7e98ad7c8e1fef</td>\n",
       "      <td>6T7G4U</td>\n",
       "      <td>202107090923521930686502</td>\n",
       "      <td>2021-07-09 09:23:52</td>\n",
       "      <td>SEO</td>\n",
       "      <td>2021-08-01 16:25:38</td>\n",
       "      <td>desktop</td>\n",
       "      <td>CLICK</td>\n",
       "      <td>False</td>\n",
       "      <td>0.0</td>\n",
       "      <td>...</td>\n",
       "      <td>0.0</td>\n",
       "      <td>0.0</td>\n",
       "      <td>0.0</td>\n",
       "      <td>0.0</td>\n",
       "      <td>0.0</td>\n",
       "      <td>0.0</td>\n",
       "      <td>1.0</td>\n",
       "      <td>0.0</td>\n",
       "      <td>0.0</td>\n",
       "      <td>0.0</td>\n",
       "    </tr>\n",
       "  </tbody>\n",
       "</table>\n",
       "<p>5 rows × 22 columns</p>\n",
       "</div>"
      ],
      "text/plain": [
       "                         Visitor_ID Order_ID                 Session_ID  \\\n",
       "0  62b8a6f7a78a95099e96208e5a5fddbf   VGNDTH  2021081109450110503075681   \n",
       "1  70919f0bc2ffbfb042f9e744865967c8   Q9MDCD  2021081221100511925403162   \n",
       "2  b0b049969e05a45cd73be135cf28983d   8ZWECQ   202107240904151573704685   \n",
       "3  a87e36dbfc7b606b70103ca2a631bf4d   V45QTS   202107201329103861926169   \n",
       "4  49eb15be3913a6cc5e7e98ad7c8e1fef   6T7G4U   202107090923521930686502   \n",
       "\n",
       "             TIMESTAMP channel                 Date   device interaction  \\\n",
       "0  2021-08-11 10:50:38     SEO  2021-08-11 10:50:38      web       CLICK   \n",
       "1  2021-08-12 21:10:05     SEO  2021-08-12 21:10:05   mobile       CLICK   \n",
       "2  2021-07-24 09:04:15     SEO  2021-07-24 09:04:15  desktop       CLICK   \n",
       "3  2021-07-20 13:38:43     SEO  2021-07-20 14:17:31  desktop       CLICK   \n",
       "4  2021-07-09 09:23:52     SEO  2021-08-01 16:25:38  desktop       CLICK   \n",
       "\n",
       "   converted  channel_AD_EXCHANGE_appnexus  ...  channel_DISPLAY  \\\n",
       "0       True                           0.0  ...              0.0   \n",
       "1       True                           0.0  ...              0.0   \n",
       "2       True                           0.0  ...              0.0   \n",
       "3      False                           0.0  ...              0.0   \n",
       "4      False                           0.0  ...              0.0   \n",
       "\n",
       "   channel_REFERRAL  channel_SEA_Bing_HM  channel_SEA_Bing_M  \\\n",
       "0               0.0                  0.0                 0.0   \n",
       "1               0.0                  0.0                 0.0   \n",
       "2               0.0                  0.0                 0.0   \n",
       "3               0.0                  0.0                 0.0   \n",
       "4               0.0                  0.0                 0.0   \n",
       "\n",
       "   channel_SEA_Google_HM  channel_SEA_Google_M  channel_SEO  channel_SOCIAL  \\\n",
       "0                    0.0                   0.0          1.0             0.0   \n",
       "1                    0.0                   0.0          1.0             0.0   \n",
       "2                    0.0                   0.0          1.0             0.0   \n",
       "3                    0.0                   0.0          1.0             0.0   \n",
       "4                    0.0                   0.0          1.0             0.0   \n",
       "\n",
       "   channel_email_auto  channel_email_tactique  \n",
       "0                 0.0                     0.0  \n",
       "1                 0.0                     0.0  \n",
       "2                 0.0                     0.0  \n",
       "3                 0.0                     0.0  \n",
       "4                 0.0                     0.0  \n",
       "\n",
       "[5 rows x 22 columns]"
      ]
     },
     "execution_count": 58,
     "metadata": {},
     "output_type": "execute_result"
    }
   ],
   "source": [
    "data.head()"
   ]
  },
  {
   "cell_type": "code",
   "execution_count": 59,
   "metadata": {},
   "outputs": [],
   "source": [
    "# Séparez les données en ensembles d'entraînement et de test\n",
    "X_train, X_test, y_train, y_test = train_test_split(data.drop(['Visitor_ID','Order_ID','Session_ID','converted','channel','Date','TIMESTAMP','device','interaction'], axis=1), data['converted'], test_size=0.2)"
   ]
  },
  {
   "cell_type": "code",
   "execution_count": 60,
   "metadata": {},
   "outputs": [
    {
     "data": {
      "text/html": [
       "<style>#sk-container-id-3 {color: black;background-color: white;}#sk-container-id-3 pre{padding: 0;}#sk-container-id-3 div.sk-toggleable {background-color: white;}#sk-container-id-3 label.sk-toggleable__label {cursor: pointer;display: block;width: 100%;margin-bottom: 0;padding: 0.3em;box-sizing: border-box;text-align: center;}#sk-container-id-3 label.sk-toggleable__label-arrow:before {content: \"▸\";float: left;margin-right: 0.25em;color: #696969;}#sk-container-id-3 label.sk-toggleable__label-arrow:hover:before {color: black;}#sk-container-id-3 div.sk-estimator:hover label.sk-toggleable__label-arrow:before {color: black;}#sk-container-id-3 div.sk-toggleable__content {max-height: 0;max-width: 0;overflow: hidden;text-align: left;background-color: #f0f8ff;}#sk-container-id-3 div.sk-toggleable__content pre {margin: 0.2em;color: black;border-radius: 0.25em;background-color: #f0f8ff;}#sk-container-id-3 input.sk-toggleable__control:checked~div.sk-toggleable__content {max-height: 200px;max-width: 100%;overflow: auto;}#sk-container-id-3 input.sk-toggleable__control:checked~label.sk-toggleable__label-arrow:before {content: \"▾\";}#sk-container-id-3 div.sk-estimator input.sk-toggleable__control:checked~label.sk-toggleable__label {background-color: #d4ebff;}#sk-container-id-3 div.sk-label input.sk-toggleable__control:checked~label.sk-toggleable__label {background-color: #d4ebff;}#sk-container-id-3 input.sk-hidden--visually {border: 0;clip: rect(1px 1px 1px 1px);clip: rect(1px, 1px, 1px, 1px);height: 1px;margin: -1px;overflow: hidden;padding: 0;position: absolute;width: 1px;}#sk-container-id-3 div.sk-estimator {font-family: monospace;background-color: #f0f8ff;border: 1px dotted black;border-radius: 0.25em;box-sizing: border-box;margin-bottom: 0.5em;}#sk-container-id-3 div.sk-estimator:hover {background-color: #d4ebff;}#sk-container-id-3 div.sk-parallel-item::after {content: \"\";width: 100%;border-bottom: 1px solid gray;flex-grow: 1;}#sk-container-id-3 div.sk-label:hover label.sk-toggleable__label {background-color: #d4ebff;}#sk-container-id-3 div.sk-serial::before {content: \"\";position: absolute;border-left: 1px solid gray;box-sizing: border-box;top: 0;bottom: 0;left: 50%;z-index: 0;}#sk-container-id-3 div.sk-serial {display: flex;flex-direction: column;align-items: center;background-color: white;padding-right: 0.2em;padding-left: 0.2em;position: relative;}#sk-container-id-3 div.sk-item {position: relative;z-index: 1;}#sk-container-id-3 div.sk-parallel {display: flex;align-items: stretch;justify-content: center;background-color: white;position: relative;}#sk-container-id-3 div.sk-item::before, #sk-container-id-3 div.sk-parallel-item::before {content: \"\";position: absolute;border-left: 1px solid gray;box-sizing: border-box;top: 0;bottom: 0;left: 50%;z-index: -1;}#sk-container-id-3 div.sk-parallel-item {display: flex;flex-direction: column;z-index: 1;position: relative;background-color: white;}#sk-container-id-3 div.sk-parallel-item:first-child::after {align-self: flex-end;width: 50%;}#sk-container-id-3 div.sk-parallel-item:last-child::after {align-self: flex-start;width: 50%;}#sk-container-id-3 div.sk-parallel-item:only-child::after {width: 0;}#sk-container-id-3 div.sk-dashed-wrapped {border: 1px dashed gray;margin: 0 0.4em 0.5em 0.4em;box-sizing: border-box;padding-bottom: 0.4em;background-color: white;}#sk-container-id-3 div.sk-label label {font-family: monospace;font-weight: bold;display: inline-block;line-height: 1.2em;}#sk-container-id-3 div.sk-label-container {text-align: center;}#sk-container-id-3 div.sk-container {/* jupyter's `normalize.less` sets `[hidden] { display: none; }` but bootstrap.min.css set `[hidden] { display: none !important; }` so we also need the `!important` here to be able to override the default hidden behavior on the sphinx rendered scikit-learn.org. See: https://github.com/scikit-learn/scikit-learn/issues/21755 */display: inline-block !important;position: relative;}#sk-container-id-3 div.sk-text-repr-fallback {display: none;}</style><div id=\"sk-container-id-3\" class=\"sk-top-container\"><div class=\"sk-text-repr-fallback\"><pre>RandomForestClassifier()</pre><b>In a Jupyter environment, please rerun this cell to show the HTML representation or trust the notebook. <br />On GitHub, the HTML representation is unable to render, please try loading this page with nbviewer.org.</b></div><div class=\"sk-container\" hidden><div class=\"sk-item\"><div class=\"sk-estimator sk-toggleable\"><input class=\"sk-toggleable__control sk-hidden--visually\" id=\"sk-estimator-id-3\" type=\"checkbox\" checked><label for=\"sk-estimator-id-3\" class=\"sk-toggleable__label sk-toggleable__label-arrow\">RandomForestClassifier</label><div class=\"sk-toggleable__content\"><pre>RandomForestClassifier()</pre></div></div></div></div></div>"
      ],
      "text/plain": [
       "RandomForestClassifier()"
      ]
     },
     "execution_count": 60,
     "metadata": {},
     "output_type": "execute_result"
    }
   ],
   "source": [
    "# Entraînez un classificateur de forêt aléatoire sur les données d'entraînement\n",
    "clf = RandomForestClassifier()\n",
    "clf.fit(X_train, y_train)"
   ]
  },
  {
   "cell_type": "code",
   "execution_count": 61,
   "metadata": {},
   "outputs": [],
   "source": [
    "# Use the trained model to predict the probability of conversion for each channel\n",
    "probs = clf.predict_proba(X_test)"
   ]
  },
  {
   "cell_type": "code",
   "execution_count": 62,
   "metadata": {},
   "outputs": [
    {
     "data": {
      "text/plain": [
       "array([0., 0., 0., ..., 0., 0., 0.])"
      ]
     },
     "execution_count": 62,
     "metadata": {},
     "output_type": "execute_result"
    }
   ],
   "source": [
    "clf.predict(X_test)"
   ]
  },
  {
   "cell_type": "code",
   "execution_count": 63,
   "metadata": {},
   "outputs": [],
   "source": [
    "# Attribution d'un score de contribution pour chaque canal\n",
    "contributions = probs[:,1].dot(X_test[channel_df.columns])\n"
   ]
  },
  {
   "cell_type": "code",
   "execution_count": 64,
   "metadata": {},
   "outputs": [],
   "source": [
    "# Check point pour voir si le modèle retourne qu'une seule classe\n",
    "if probs.shape[1] == 1:\n",
    "    raise ValueError(\"The model is not returning the probability of conversion for each class.\")"
   ]
  },
  {
   "cell_type": "code",
   "execution_count": 65,
   "metadata": {},
   "outputs": [
    {
     "name": "stdout",
     "output_type": "stream",
     "text": [
      "channel_AD_EXCHANGE_appnexus contribution: 170.49641851446958\n",
      "channel_AFFILIATION contribution: 55.752636447629946\n",
      "channel_DIRECT_ACCESS contribution: 933.668861178262\n",
      "channel_DISPLAY contribution: 1.0635246428315632\n",
      "channel_REFERRAL contribution: 177.73601530681515\n",
      "channel_SEA_Bing_HM contribution: 0.0\n",
      "channel_SEA_Bing_M contribution: 21.090915240215654\n",
      "channel_SEA_Google_HM contribution: 12.86723849222682\n",
      "channel_SEA_Google_M contribution: 263.2783812212656\n",
      "channel_SEO contribution: 1077.7567865486055\n",
      "channel_SOCIAL contribution: 2.758235358624486\n",
      "channel_email_auto contribution: 88.55735184085573\n",
      "channel_email_tactique contribution: 11.853143159314513\n"
     ]
    }
   ],
   "source": [
    "# Print des scores de contributions pour chaque canal (channel)\n",
    "for i,channel in enumerate(channel_df.columns):\n",
    "    print(f\"{channel} contribution:\", contributions[i].sum())\n"
   ]
  }
 ],
 "metadata": {
  "kernelspec": {
   "display_name": "Python 3",
   "language": "python",
   "name": "python3"
  },
  "language_info": {
   "codemirror_mode": {
    "name": "ipython",
    "version": 3
   },
   "file_extension": ".py",
   "mimetype": "text/x-python",
   "name": "python",
   "nbconvert_exporter": "python",
   "pygments_lexer": "ipython3",
   "version": "3.11.1"
  },
  "orig_nbformat": 4,
  "vscode": {
   "interpreter": {
    "hash": "aee8b7b246df8f9039afb4144a1f6fd8d2ca17a180786b69acc140d282b71a49"
   }
  }
 },
 "nbformat": 4,
 "nbformat_minor": 2
}
